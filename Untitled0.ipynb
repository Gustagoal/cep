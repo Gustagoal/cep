{
  "nbformat": 4,
  "nbformat_minor": 0,
  "metadata": {
    "colab": {
      "provenance": [],
      "authorship_tag": "ABX9TyOTfY0U9V/x23l5Ir+wXyX3",
      "include_colab_link": true
    },
    "kernelspec": {
      "name": "python3",
      "display_name": "Python 3"
    },
    "language_info": {
      "name": "python"
    }
  },
  "cells": [
    {
      "cell_type": "markdown",
      "metadata": {
        "id": "view-in-github",
        "colab_type": "text"
      },
      "source": [
        "<a href=\"https://colab.research.google.com/github/Gustagoal/cep/blob/main/Untitled0.ipynb\" target=\"_parent\"><img src=\"https://colab.research.google.com/assets/colab-badge.svg\" alt=\"Open In Colab\"/></a>"
      ]
    },
    {
      "cell_type": "code",
      "execution_count": null,
      "metadata": {
        "id": "MhTc1uk34NXG"
      },
      "outputs": [],
      "source": [
        "import requests\n",
        "cep = input(\"Digite um cep : \")\n",
        "try:\n",
        "    requisicao = requests.get(f\"https://cep.awesomeapi.com.br/json/{cep}\")\n",
        "    dados = requisicao.json()\n",
        "except Exception as e:\n",
        "    print(\"Erro ao tentar digitar o cep\")\n",
        "    print(f\"Erro do tipo {e}\")\n",
        "print(dados)"
      ]
    }
  ]
}